{
 "cells": [
  {
   "cell_type": "markdown",
   "metadata": {
    "pycharm": {
     "name": "#%% md\n"
    }
   },
   "source": [
    "# Visualization of tif files"
   ]
  },
  {
   "cell_type": "code",
   "execution_count": 12,
   "metadata": {},
   "outputs": [],
   "source": [
    "import src"
   ]
  },
  {
   "cell_type": "code",
   "execution_count": 13,
   "metadata": {
    "pycharm": {
     "name": "#%%\n"
    }
   },
   "outputs": [],
   "source": [
    "import numpy as np\n",
    "import rasterio\n",
    "import matplotlib.pyplot as plt\n",
    "import matplotlib\n",
    "\n",
    "from src.utils import acquire_data, load_convert_tiff"
   ]
  },
  {
   "cell_type": "code",
   "execution_count": 14,
   "metadata": {
    "collapsed": false,
    "pycharm": {
     "name": "#%%\n"
    }
   },
   "outputs": [],
   "source": [
    "allregions = [\"accra_20181031\", \"biscay_20180419\", \"danang_20181005\",\n",
    "              \"kentpointfarm_20180710\", \"kolkata_20201115\", \"lagos_20190101\",\n",
    "              \"lagos_20200505\", \"london_20180611\", \"longxuyen_20181102\",\n",
    "              \"mandaluyong_20180314\", \"neworleans_20200202\", \"panama_20190425\",\n",
    "              \"portalfredSouthAfrica_20180601\", \"riodejaneiro_20180504\",\n",
    "              \"sandiego_20180804\", \"sanfrancisco_20190219\", \"shengsi_20190615\",\n",
    "              \"suez_20200403\", \"tangshan_20180130\", \"toledo_20191221\",\n",
    "              \"tungchungChina_20190922\", \"tunisia_20180715\",\n",
    "              \"turkmenistan_20181030\", \"venice_20180630\", \"venice_20180928\",\n",
    "              \"vungtau_20180423\"\n",
    "    ]"
   ]
  },
  {
   "cell_type": "code",
   "execution_count": 15,
   "metadata": {
    "pycharm": {
     "is_executing": true,
     "name": "#%%\n"
    }
   },
   "outputs": [
    {
     "name": "stdout",
     "output_type": "stream",
     "text": [
      "(5380, 10283)\n"
     ]
    },
    {
     "ename": "KeyboardInterrupt",
     "evalue": "",
     "output_type": "error",
     "traceback": [
      "\u001b[0;31m---------------------------------------------------------------------------\u001b[0m",
      "\u001b[0;31mKeyboardInterrupt\u001b[0m                         Traceback (most recent call last)",
      "Cell \u001b[0;32mIn[15], line 8\u001b[0m\n\u001b[1;32m      6\u001b[0m sentinel_img, coords_dict \u001b[39m=\u001b[39m acquire_data(path \u001b[39m+\u001b[39m region_name \u001b[39m+\u001b[39m ext)\n\u001b[1;32m      7\u001b[0m \u001b[39mprint\u001b[39m(coords_dict[\u001b[39m'\u001b[39m\u001b[39mlat\u001b[39m\u001b[39m'\u001b[39m]\u001b[39m.\u001b[39mshape)\n\u001b[0;32m----> 8\u001b[0m rgb, ndvi, fdi, meta \u001b[39m=\u001b[39m load_convert_tiff(path \u001b[39m+\u001b[39;49m region_name \u001b[39m+\u001b[39;49m ext)\n\u001b[1;32m      9\u001b[0m plt\u001b[39m.\u001b[39mimshow(np\u001b[39m.\u001b[39mmoveaxis(rgb, \u001b[39m0\u001b[39m, \u001b[39m-\u001b[39m\u001b[39m1\u001b[39m))\n\u001b[1;32m     10\u001b[0m plt\u001b[39m.\u001b[39mshow()\n",
      "File \u001b[0;32m/data/floatingobjects/floatingobjects/src/utils.py:24\u001b[0m, in \u001b[0;36mload_convert_tiff\u001b[0;34m(tiff)\u001b[0m\n\u001b[1;32m     21\u001b[0m \u001b[39melse\u001b[39;00m:\n\u001b[1;32m     22\u001b[0m     \u001b[39mraise\u001b[39;00m \u001b[39mValueError\u001b[39;00m(\u001b[39m\"\u001b[39m\u001b[39mexpected tiff to have either 12 (L2A) or 13 (L1C) bands\u001b[39m\u001b[39m\"\u001b[39m)\n\u001b[0;32m---> 24\u001b[0m rgb \u001b[39m=\u001b[39m equalize_hist(arr[[bands\u001b[39m.\u001b[39;49mindex(\u001b[39m\"\u001b[39;49m\u001b[39mB4\u001b[39;49m\u001b[39m\"\u001b[39;49m), bands\u001b[39m.\u001b[39;49mindex(\u001b[39m\"\u001b[39;49m\u001b[39mB3\u001b[39;49m\u001b[39m\"\u001b[39;49m), bands\u001b[39m.\u001b[39;49mindex(\u001b[39m\"\u001b[39;49m\u001b[39mB2\u001b[39;49m\u001b[39m\"\u001b[39;49m)]])\n\u001b[1;32m     26\u001b[0m cmap_magma \u001b[39m=\u001b[39m matplotlib\u001b[39m.\u001b[39mcm\u001b[39m.\u001b[39mget_cmap(\u001b[39m\"\u001b[39m\u001b[39mmagma\u001b[39m\u001b[39m\"\u001b[39m)\n\u001b[1;32m     27\u001b[0m cmap_viridis \u001b[39m=\u001b[39m matplotlib\u001b[39m.\u001b[39mcm\u001b[39m.\u001b[39mget_cmap(\u001b[39m\"\u001b[39m\u001b[39mviridis\u001b[39m\u001b[39m\"\u001b[39m)\n",
      "File \u001b[0;32m/opt/conda/envs/floatingobjects/lib/python3.10/site-packages/skimage/exposure/exposure.py:388\u001b[0m, in \u001b[0;36mequalize_hist\u001b[0;34m(image, nbins, mask)\u001b[0m\n\u001b[1;32m    386\u001b[0m \u001b[39melse\u001b[39;00m:\n\u001b[1;32m    387\u001b[0m     cdf, bin_centers \u001b[39m=\u001b[39m cumulative_distribution(image, nbins)\n\u001b[0;32m--> 388\u001b[0m out \u001b[39m=\u001b[39m np\u001b[39m.\u001b[39;49minterp(image\u001b[39m.\u001b[39;49mflat, bin_centers, cdf)\n\u001b[1;32m    389\u001b[0m out \u001b[39m=\u001b[39m out\u001b[39m.\u001b[39mreshape(image\u001b[39m.\u001b[39mshape)\n\u001b[1;32m    390\u001b[0m \u001b[39m# Unfortunately, np.interp currently always promotes to float64, so we\u001b[39;00m\n\u001b[1;32m    391\u001b[0m \u001b[39m# have to cast back to single precision when float32 output is desired\u001b[39;00m\n",
      "File \u001b[0;32m<__array_function__ internals>:200\u001b[0m, in \u001b[0;36minterp\u001b[0;34m(*args, **kwargs)\u001b[0m\n",
      "File \u001b[0;32m/opt/conda/envs/floatingobjects/lib/python3.10/site-packages/numpy/lib/function_base.py:1595\u001b[0m, in \u001b[0;36minterp\u001b[0;34m(x, xp, fp, left, right, period)\u001b[0m\n\u001b[1;32m   1592\u001b[0m     xp \u001b[39m=\u001b[39m np\u001b[39m.\u001b[39mconcatenate((xp[\u001b[39m-\u001b[39m\u001b[39m1\u001b[39m:]\u001b[39m-\u001b[39mperiod, xp, xp[\u001b[39m0\u001b[39m:\u001b[39m1\u001b[39m]\u001b[39m+\u001b[39mperiod))\n\u001b[1;32m   1593\u001b[0m     fp \u001b[39m=\u001b[39m np\u001b[39m.\u001b[39mconcatenate((fp[\u001b[39m-\u001b[39m\u001b[39m1\u001b[39m:], fp, fp[\u001b[39m0\u001b[39m:\u001b[39m1\u001b[39m]))\n\u001b[0;32m-> 1595\u001b[0m \u001b[39mreturn\u001b[39;00m interp_func(x, xp, fp, left, right)\n",
      "\u001b[0;31mKeyboardInterrupt\u001b[0m: "
     ]
    }
   ],
   "source": [
    "path = \"../../../../data/\"\n",
    "ext = \".tif\"\n",
    "\n",
    "\n",
    "for region_name in allregions:\n",
    "    sentinel_img, coords_dict = acquire_data(path + region_name + ext)\n",
    "    print(coords_dict['lat'].shape)\n",
    "    rgb, ndvi, fdi, meta = load_convert_tiff(path + region_name + ext)\n",
    "    plt.imshow(np.moveaxis(rgb, 0, -1))\n",
    "    plt.show()\n",
    "\n",
    "\n",
    "\n",
    "#sentinel_img, coords_dict = acquire_data(path + region_name + ext)\n",
    "#for i in range(0, 11):\n",
    "#    plt.imshow(sentinel_img[:, :, i:i+3])\n",
    "#    plt.show()\n",
    "#print(coords_dict['lat'].shape)\n",
    "\n",
    "#rgb, ndvi, fdi, meta = load_convert_tiff(path + region_name + ext)\n",
    "#plt.imshow(np.moveaxis(rgb, 0, -1))\n",
    "#plt.show()\n"
   ]
  },
  {
   "cell_type": "code",
   "execution_count": null,
   "metadata": {
    "pycharm": {
     "is_executing": true,
     "name": "#%%\n"
    }
   },
   "outputs": [],
   "source": []
  },
  {
   "cell_type": "code",
   "execution_count": null,
   "metadata": {
    "pycharm": {
     "is_executing": true,
     "name": "#%%\n"
    }
   },
   "outputs": [],
   "source": []
  }
 ],
 "metadata": {
  "kernelspec": {
   "display_name": "floatingobjects",
   "language": "python",
   "name": "python3"
  },
  "language_info": {
   "codemirror_mode": {
    "name": "ipython",
    "version": 3
   },
   "file_extension": ".py",
   "mimetype": "text/x-python",
   "name": "python",
   "nbconvert_exporter": "python",
   "pygments_lexer": "ipython3",
   "version": "3.10.9"
  },
  "vscode": {
   "interpreter": {
    "hash": "c6242aaafc6cf7ea1b0869588947a07b724046b3b90ebda4e5610998930c28d4"
   }
  }
 },
 "nbformat": 4,
 "nbformat_minor": 1
}
